{
 "cells": [
  {
   "cell_type": "code",
   "execution_count": 42,
   "id": "de828bf9",
   "metadata": {},
   "outputs": [],
   "source": [
    "import yfinance as yf\n",
    "import pywhatkit as pwk"
   ]
  },
  {
   "cell_type": "code",
   "execution_count": 53,
   "id": "a1e6477a",
   "metadata": {},
   "outputs": [],
   "source": [
    "def send_message(ph_no, name, cp):\n",
    "    statement = '{} price is {}'.format(name, cp)\n",
    "    pwk.sendwhatmsg_instantly('+91'+ph_no, statement, 15)\n",
    "    print('WhatsApp message sent for {}'.format(name))"
   ]
  },
  {
   "cell_type": "code",
   "execution_count": 44,
   "id": "21d66625",
   "metadata": {},
   "outputs": [
    {
     "name": "stdout",
     "output_type": "stream",
     "text": [
      "Enter Stock Ticker: HDFCBANK.NS\n"
     ]
    }
   ],
   "source": [
    "name = input(\"Enter Stock Ticker: \")"
   ]
  },
  {
   "cell_type": "code",
   "execution_count": 46,
   "id": "d02fd8a3",
   "metadata": {},
   "outputs": [
    {
     "name": "stdout",
     "output_type": "stream",
     "text": [
      "Enter target price: 1700\n"
     ]
    }
   ],
   "source": [
    "target_price = int(input(\"Enter target price: \"))"
   ]
  },
  {
   "cell_type": "code",
   "execution_count": 47,
   "id": "5abd7dae",
   "metadata": {},
   "outputs": [],
   "source": [
    "cp = yf.Ticker(name).info.get('currentPrice')"
   ]
  },
  {
   "cell_type": "code",
   "execution_count": 48,
   "id": "6b73272a",
   "metadata": {},
   "outputs": [
    {
     "name": "stdout",
     "output_type": "stream",
     "text": [
      "Enter your phone number: 7483844696\n"
     ]
    }
   ],
   "source": [
    "ph_no = input(\"Enter your phone number: \")"
   ]
  },
  {
   "cell_type": "code",
   "execution_count": 54,
   "id": "a85cbb24",
   "metadata": {},
   "outputs": [
    {
     "name": "stdout",
     "output_type": "stream",
     "text": [
      "WhatsApp message sent for HDFCBANK.NS\n"
     ]
    }
   ],
   "source": [
    "if target_price >= cp:\n",
    "    send_message(ph_no, name, cp)"
   ]
  },
  {
   "cell_type": "code",
   "execution_count": null,
   "id": "655a0a4f",
   "metadata": {},
   "outputs": [],
   "source": []
  }
 ],
 "metadata": {
  "kernelspec": {
   "display_name": "Python 3 (ipykernel)",
   "language": "python",
   "name": "python3"
  },
  "language_info": {
   "codemirror_mode": {
    "name": "ipython",
    "version": 3
   },
   "file_extension": ".py",
   "mimetype": "text/x-python",
   "name": "python",
   "nbconvert_exporter": "python",
   "pygments_lexer": "ipython3",
   "version": "3.12.3"
  }
 },
 "nbformat": 4,
 "nbformat_minor": 5
}
